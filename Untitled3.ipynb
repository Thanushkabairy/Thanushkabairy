{
  "nbformat": 4,
  "nbformat_minor": 0,
  "metadata": {
    "colab": {
      "provenance": [],
      "authorship_tag": "ABX9TyPkyefrN8KdQQMdHmvRwxEa",
      "include_colab_link": true
    },
    "kernelspec": {
      "name": "python3",
      "display_name": "Python 3"
    },
    "language_info": {
      "name": "python"
    }
  },
  "cells": [
    {
      "cell_type": "markdown",
      "metadata": {
        "id": "view-in-github",
        "colab_type": "text"
      },
      "source": [
        "<a href=\"https://colab.research.google.com/github/Thanushkabairy/Thanushkabairy/blob/main/Untitled3.ipynb\" target=\"_parent\"><img src=\"https://colab.research.google.com/assets/colab-badge.svg\" alt=\"Open In Colab\"/></a>"
      ]
    },
    {
      "cell_type": "markdown",
      "source": [
        "## Data Wrongling steps"
      ],
      "metadata": {
        "id": "kNIqygMyOhRN"
      }
    },
    {
      "cell_type": "code",
      "execution_count": 12,
      "metadata": {
        "colab": {
          "base_uri": "https://localhost:8080/"
        },
        "id": "Pqeb6u4hES-N",
        "outputId": "e305fa99-7dd3-47a3-b00a-3678658e0b97"
      },
      "outputs": [
        {
          "output_type": "stream",
          "name": "stdout",
          "text": [
            "Original Data:\n",
            "       Name   Age      City   Salary\n",
            "0    Alice  25.0  New York  50000.0\n",
            "1      Bob   NaN    London  60000.0\n",
            "2  Charlie  30.0      None      NaN\n",
            "3    David  40.0     Paris  80000.0\n",
            "4      Eve   NaN    Berlin  90000.0\n",
            "5    Alice  25.0  New York  50000.0\n",
            "6  Charlie  30.0      None      NaN \n",
            "\n",
            "    Name   Age      City   Salary\n",
            "0  Alice  25.0  New York  50000.0\n",
            "1    Bob   NaN    London  60000.0\n",
            "3  David  40.0     Paris  80000.0\n",
            "4    Eve   NaN    Berlin  90000.0\n",
            "5  Alice  25.0  New York  50000.0\n",
            "    Name   Age      City   Salary\n",
            "0  Alice  25.0  New York  50000.0\n",
            "1    Bob  30.0    London  60000.0\n",
            "3  David  40.0     Paris  80000.0\n",
            "4    Eve  30.0    Berlin  90000.0\n",
            "  Employee_Name  Employee_Age      City   Salary\n",
            "0         Alice            25  New York  50000.0\n",
            "1           Bob            30    London  60000.0\n",
            "3         David            40     Paris  80000.0\n",
            "4           Eve            30    Berlin  90000.0\n",
            "  Employee_Name  Employee_Age      City   Salary\n",
            "0         Alice            25  New York  50000.0\n",
            "1           Bob            30    London  60000.0\n",
            "3         David            40     Paris  80000.0\n",
            "4           Eve            30    Berlin  90000.0\n",
            "  Employee_Name  Employee_Age      City   Salary   Bonus\n",
            "0         Alice            25  New York  50000.0  5000.0\n",
            "1           Bob            30    London  60000.0  6000.0\n",
            "3         David            40     Paris  80000.0  8000.0\n",
            "4           Eve            30    Berlin  90000.0  9000.0\n",
            "  Employee_Name  Employee_Age      City   Salary   Bonus\n",
            "4           Eve            30    Berlin  90000.0  9000.0\n",
            "3         David            40     Paris  80000.0  8000.0\n",
            "1           Bob            30    London  60000.0  6000.0\n",
            "0         Alice            25  New York  50000.0  5000.0\n",
            "City\n",
            "Berlin      90000.0\n",
            "London      60000.0\n",
            "New York    50000.0\n",
            "Paris       80000.0\n",
            "Name: Salary, dtype: float64\n"
          ]
        }
      ],
      "source": [
        "import pandas as pd\n",
        "data = {\n",
        "    \"Name\": [\"Alice\", \"Bob\", \"Charlie\", \"David\", \"Eve\",\"Alice\",\"Charlie\"],\n",
        "    \"Age\": [25, None, 30, 40, None,25,30],\n",
        "    \"City\": [\"New York\", \"London\", None, \"Paris\", \"Berlin\",\"New York\",None],\n",
        "    \"Salary\": [50000, 60000, None, 80000, 90000,50000,None]\n",
        "}\n",
        "\n",
        "df = pd.DataFrame(data)\n",
        "print(\"Original Data:\\n\", df, \"\\n\")\n",
        "df = df.dropna(subset=['Salary'])\n",
        "print(df)\n",
        "df['Age'] = df['Age'].fillna(df['Age'].mean())\n",
        "df['City'] = df['City'].fillna(\"Unknown\")\n",
        "df = df.drop_duplicates()\n",
        "print(df)\n",
        "df = df.rename(columns={\"Name\": \"Employee_Name\", \"Age\": \"Employee_Age\"})\n",
        "df['Employee_Age'] = df['Employee_Age'].astype(int)\n",
        "print(df)\n",
        "df_filtered = df[df['Salary'] > 60000]   # employees with salary > 60000\n",
        "print(df)\n",
        "df['Bonus'] = df['Salary'] * 0.10   # 10% bonus\n",
        "print(df)\n",
        "df = df.sort_values(by='Salary', ascending=False)\n",
        "print(df)\n",
        "df_group = df.groupby('City')['Salary'].mean()\n",
        "print(df_group)\n"
      ]
    },
    {
      "cell_type": "markdown",
      "source": [
        "product"
      ],
      "metadata": {
        "id": "wQ1yKQK1Q6ER"
      }
    },
    {
      "cell_type": "code",
      "source": [
        "import pandas as pd\n",
        "\n",
        "# Sample dataset of products\n",
        "data = {\n",
        "    \"Product\": [\"Laptop\", \"Phone\", \"Tablet\", \"Monitor\", \"Keyboard\", \"Laptop\", \"Tablet\"],\n",
        "    \"Price\": [800, 500, None, 300, None, 800, None],\n",
        "    \"Category\": [\"Electronics\", \"Electronics\", None, \"Electronics\", \"Accessories\", \"Electronics\", None],\n",
        "    \"Stock\": [50, 100, None, 30, 200, 50, None]\n",
        "}\n",
        "\n",
        "df = pd.DataFrame(data)\n",
        "print(\"Original Data:\\n\", df, \"\\n\")\n",
        "\n",
        "# Drop rows with missing Stock values\n",
        "df = df.dropna(subset=['Stock'])\n",
        "print(\"After dropping missing Stock:\\n\", df, \"\\n\")\n",
        "\n",
        "# Fill missing Price with mean, Category with \"Misc\"\n",
        "df['Price'] = df['Price'].fillna(df['Price'].mean())\n",
        "print(df)\n",
        "df['Category'] = df['Category'].fillna(\"Misc\")\n",
        "print(df)\n",
        "df['Price'] = df['Price'].astype(int)\n",
        "print(df)\n",
        "df = df.sort_values(by='Product', ascending=False)\n",
        "print(df)\n",
        "df = df.drop_duplicates()\n",
        "print(df)"
      ],
      "metadata": {
        "colab": {
          "base_uri": "https://localhost:8080/"
        },
        "id": "EG9vqnSMPweH",
        "outputId": "e8488e3b-5015-43d5-f5d2-5b6c58c827cc"
      },
      "execution_count": 17,
      "outputs": [
        {
          "output_type": "stream",
          "name": "stdout",
          "text": [
            "Original Data:\n",
            "     Product  Price     Category  Stock\n",
            "0    Laptop  800.0  Electronics   50.0\n",
            "1     Phone  500.0  Electronics  100.0\n",
            "2    Tablet    NaN         None    NaN\n",
            "3   Monitor  300.0  Electronics   30.0\n",
            "4  Keyboard    NaN  Accessories  200.0\n",
            "5    Laptop  800.0  Electronics   50.0\n",
            "6    Tablet    NaN         None    NaN \n",
            "\n",
            "After dropping missing Stock:\n",
            "     Product  Price     Category  Stock\n",
            "0    Laptop  800.0  Electronics   50.0\n",
            "1     Phone  500.0  Electronics  100.0\n",
            "3   Monitor  300.0  Electronics   30.0\n",
            "4  Keyboard    NaN  Accessories  200.0\n",
            "5    Laptop  800.0  Electronics   50.0 \n",
            "\n",
            "    Product  Price     Category  Stock\n",
            "0    Laptop  800.0  Electronics   50.0\n",
            "1     Phone  500.0  Electronics  100.0\n",
            "3   Monitor  300.0  Electronics   30.0\n",
            "4  Keyboard  600.0  Accessories  200.0\n",
            "5    Laptop  800.0  Electronics   50.0\n",
            "    Product  Price     Category  Stock\n",
            "0    Laptop  800.0  Electronics   50.0\n",
            "1     Phone  500.0  Electronics  100.0\n",
            "3   Monitor  300.0  Electronics   30.0\n",
            "4  Keyboard  600.0  Accessories  200.0\n",
            "5    Laptop  800.0  Electronics   50.0\n",
            "    Product  Price     Category  Stock\n",
            "0    Laptop    800  Electronics   50.0\n",
            "1     Phone    500  Electronics  100.0\n",
            "3   Monitor    300  Electronics   30.0\n",
            "4  Keyboard    600  Accessories  200.0\n",
            "5    Laptop    800  Electronics   50.0\n",
            "    Product  Price     Category  Stock\n",
            "1     Phone    500  Electronics  100.0\n",
            "3   Monitor    300  Electronics   30.0\n",
            "0    Laptop    800  Electronics   50.0\n",
            "5    Laptop    800  Electronics   50.0\n",
            "4  Keyboard    600  Accessories  200.0\n",
            "    Product  Price     Category  Stock\n",
            "1     Phone    500  Electronics  100.0\n",
            "3   Monitor    300  Electronics   30.0\n",
            "0    Laptop    800  Electronics   50.0\n",
            "4  Keyboard    600  Accessories  200.0\n"
          ]
        }
      ]
    }
  ]
}